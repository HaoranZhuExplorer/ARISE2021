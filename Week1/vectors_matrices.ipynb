{
  "nbformat": 4,
  "nbformat_minor": 0,
  "metadata": {
    "kernelspec": {
      "display_name": "Python 3",
      "language": "python",
      "name": "python3"
    },
    "language_info": {
      "codemirror_mode": {
        "name": "ipython",
        "version": 3
      },
      "file_extension": ".py",
      "mimetype": "text/x-python",
      "name": "python",
      "nbconvert_exporter": "python",
      "pygments_lexer": "ipython3",
      "version": "3.7.3"
    },
    "colab": {
      "name": "vectors_matrices.ipynb",
      "provenance": []
    }
  },
  "cells": [
    {
      "cell_type": "markdown",
      "metadata": {
        "id": "f2aXnFkawrYE",
        "colab_type": "text"
      },
      "source": [
        "# Vectors and Matrices\n",
        "## In NumPy\n",
        "These code blocks go along with the Slides1.pdf lecture slides"
      ]
    },
    {
      "cell_type": "code",
      "metadata": {
        "id": "XX2DoWw8wrYQ",
        "colab_type": "code",
        "colab": {}
      },
      "source": [
        "import numpy as np"
      ],
      "execution_count": null,
      "outputs": []
    },
    {
      "cell_type": "markdown",
      "metadata": {
        "id": "pAeCGc3ywrYp",
        "colab_type": "text"
      },
      "source": [
        "## Vectors"
      ]
    },
    {
      "cell_type": "code",
      "metadata": {
        "id": "ROzASqM8wrYz",
        "colab_type": "code",
        "colab": {
          "base_uri": "https://localhost:8080/",
          "height": 139
        },
        "outputId": "51c68e55-856f-4081-966d-f60c5d857daf"
      },
      "source": [
        "\n",
        "v = np.array([1,5,2,9])\n",
        "u = np.array([3,6,0,-5])\n",
        "\n",
        "print(\"v = \", v)\n",
        "print(\"u = \", u)\n",
        "\n",
        "# vector addition\n",
        "print(\"v+u = \", v+u)\n",
        "\n",
        "# vector scaling\n",
        "print(\"3v = \", 3*v)\n",
        "\n",
        "# Dot-Product\n",
        "print(\"u dot v = \", np.dot(u,v))\n",
        "\n",
        "# Length / L2 Norm of a vector\n",
        "print(\"sqrt(v dot v) = %.2f\" % np.sqrt(np.dot(v,v)))\n",
        "print(\"||v|| = %.2f\" % np.linalg.norm(v))"
      ],
      "execution_count": null,
      "outputs": [
        {
          "output_type": "stream",
          "text": [
            "v =  [1 5 2 9]\n",
            "u =  [ 3  6  0 -5]\n",
            "v+u =  [ 4 11  2  4]\n",
            "3v =  [ 3 15  6 27]\n",
            "u dot v =  -12\n",
            "sqrt(v dot v) = 10.54\n",
            "||v|| = 10.54\n"
          ],
          "name": "stdout"
        }
      ]
    },
    {
      "cell_type": "markdown",
      "metadata": {
        "id": "ew02DNpnwrZP",
        "colab_type": "text"
      },
      "source": [
        "## Matrices"
      ]
    },
    {
      "cell_type": "code",
      "metadata": {
        "id": "oGLPxC0TwrZT",
        "colab_type": "code",
        "colab": {
          "base_uri": "https://localhost:8080/",
          "height": 173
        },
        "outputId": "c0c94e76-f8b3-489c-a587-f6bd57afca81"
      },
      "source": [
        "M = np.array([ [1,9,-12], [15, -2, 0] ])\n",
        "print(\"M = \", M.shape)\n",
        "print(M)\n",
        "\n",
        "# matrix addition\n",
        "A = np.array([ [1, 1], [2, 1] ])\n",
        "B = np.array([ [0, 8], [7, 11] ])\n",
        "print(\"A+B = \\n\", A+B) # '\\n' is the newline character\n",
        "\n",
        "# matrix scaling\n",
        "a = 5\n",
        "print(\"aB = \\n\", a*B)"
      ],
      "execution_count": null,
      "outputs": [
        {
          "output_type": "stream",
          "text": [
            "M =  (2, 3)\n",
            "[[  1   9 -12]\n",
            " [ 15  -2   0]]\n",
            "A+B = \n",
            " [[ 1  9]\n",
            " [ 9 12]]\n",
            "aB = \n",
            " [[ 0 40]\n",
            " [35 55]]\n"
          ],
          "name": "stdout"
        }
      ]
    },
    {
      "cell_type": "markdown",
      "metadata": {
        "id": "kIRqxHbiwrZr",
        "colab_type": "text"
      },
      "source": [
        "## More about Matrices"
      ]
    },
    {
      "cell_type": "code",
      "metadata": {
        "id": "GiW_obbawrZy",
        "colab_type": "code",
        "colab": {
          "base_uri": "https://localhost:8080/",
          "height": 208
        },
        "outputId": "122e107e-5345-4ffc-e110-300da980f1c3"
      },
      "source": [
        "# matrix multiplicaiton\n",
        "print(\"shapes of A and M:\", A.shape, M.shape)\n",
        "C = np.matmul(A,M)\n",
        "print(\"C = \\n\", C)\n",
        "\n",
        "# matrix transpose\n",
        "print(\"M^T = \\n\", np.transpose(M))\n",
        "\n",
        "# matrix inverse\n",
        "print(\"A^-1 = \\n\", np.linalg.inv(A))"
      ],
      "execution_count": null,
      "outputs": [
        {
          "output_type": "stream",
          "text": [
            "shapes of A and M: (2, 2) (2, 3)\n",
            "C = \n",
            " [[ 16   7 -12]\n",
            " [ 17  16 -24]]\n",
            "M^T = \n",
            " [[  1  15]\n",
            " [  9  -2]\n",
            " [-12   0]]\n",
            "A^-1 = \n",
            " [[-1.  1.]\n",
            " [ 2. -1.]]\n"
          ],
          "name": "stdout"
        }
      ]
    },
    {
      "cell_type": "markdown",
      "metadata": {
        "id": "m5HynKlpwraE",
        "colab_type": "text"
      },
      "source": [
        "## Vectors and Matrices"
      ]
    },
    {
      "cell_type": "code",
      "metadata": {
        "id": "Y9IdlaqxwraH",
        "colab_type": "code",
        "colab": {
          "base_uri": "https://localhost:8080/",
          "height": 347
        },
        "outputId": "4c3acc7f-5993-416e-e56d-27916bac6d41"
      },
      "source": [
        "v = np.array([1,5,2,9])\n",
        "\n",
        "# v\n",
        "print(\"v\", v.shape, \" = \", v)\n",
        "\n",
        "# row vector v\n",
        "v = v.reshape(1,-1) # shape -1 in np.reshape means value is infered\n",
        "print(\"row vector v\", v.shape, \" = \",  v) \n",
        "\n",
        "# column vector v\n",
        "v = v.reshape(-1,1)\n",
        "print(\"col vector v\", v.shape, \" = \\n\",  v) \n",
        "\n",
        "# matrix vector multiplication\n",
        "u = np.array([1,2]).reshape(-1,1)\n",
        "A = np.array([[2,0],[0,1],[1,1]])\n",
        "\n",
        "C = np.matmul(A, u)\n",
        "# shape of A is 3x2\n",
        "# shape of u is 2x1\n",
        "# shape of C will be 3x1\n",
        "\n",
        "print(\"u\", u.shape, \" = \\n\", u)\n",
        "print(\"A\", A.shape, \" = \\n\", A)\n",
        "print(\"Au = \\n\", np.matmul(A,u))\n",
        "\n",
        "# dot product as matrix multiplication\n",
        "print(\"v dot v =\", np.matmul(np.transpose(v), v)) # V^T V"
      ],
      "execution_count": null,
      "outputs": [
        {
          "output_type": "stream",
          "text": [
            "v (4,)  =  [1 5 2 9]\n",
            "row vector v (1, 4)  =  [[1 5 2 9]]\n",
            "col vector v (4, 1)  = \n",
            " [[1]\n",
            " [5]\n",
            " [2]\n",
            " [9]]\n",
            "u (2, 1)  = \n",
            " [[1]\n",
            " [2]]\n",
            "A (3, 2)  = \n",
            " [[2 0]\n",
            " [0 1]\n",
            " [1 1]]\n",
            "Au = \n",
            " [[2]\n",
            " [2]\n",
            " [3]]\n",
            "v dot v = [[111]]\n"
          ],
          "name": "stdout"
        }
      ]
    }
  ]
}