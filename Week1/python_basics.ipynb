{
  "nbformat": 4,
  "nbformat_minor": 0,
  "metadata": {
    "kernelspec": {
      "display_name": "Python 3",
      "language": "python",
      "name": "python3"
    },
    "language_info": {
      "codemirror_mode": {
        "name": "ipython",
        "version": 3
      },
      "file_extension": ".py",
      "mimetype": "text/x-python",
      "name": "python",
      "nbconvert_exporter": "python",
      "pygments_lexer": "ipython3",
      "version": "3.7.3"
    },
    "colab": {
      "name": "python_basics.ipynb",
      "provenance": [],
      "collapsed_sections": []
    }
  },
  "cells": [
    {
      "cell_type": "markdown",
      "metadata": {
        "id": "iRly0MXB0SRv"
      },
      "source": [
        "## Variables\n",
        "We'll use integers for now, but there exist many more data-types.\n",
        "Variables are ways we deal with data, assign values, and allow interaction in the computer.\n",
        "Notice that re-assigning ```a``` variable does not change the value of ```c``` becuase **code is executed sequentially**"
      ]
    },
    {
      "cell_type": "code",
      "metadata": {
        "id": "3WyaXVP10SRz",
        "colab": {
          "base_uri": "https://localhost:8080/",
          "height": 104
        },
        "outputId": "e84c163a-acce-4790-fb2f-45911ed8f020"
      },
      "source": [
        "a = 5\n",
        "b = 2\n",
        "\n",
        "print('a = ', a)\n",
        "print('b = ', b)\n",
        "\n",
        "c = a+b\n",
        "a = 3\n",
        "\n",
        "print('c = ', c)\n",
        "print('a = ', a)\n",
        "print('c = ', c)"
      ],
      "execution_count": null,
      "outputs": [
        {
          "output_type": "stream",
          "text": [
            "a =  5\n",
            "b =  2\n",
            "c =  7\n",
            "a =  3\n",
            "c =  7\n"
          ],
          "name": "stdout"
        }
      ]
    },
    {
      "cell_type": "markdown",
      "metadata": {
        "id": "j9b4J8Xn0SSH"
      },
      "source": [
        "## If-Statements\n",
        "Basic inequality statements: ```==, !=, >=, <=, >, <```. If statements are used to conditionally execute a line of code. Inequality statements return **boolean** variables types: ```True``` or ```False```. Contents of an if-statement are only evaluated when the condition is ```True```. *Extra: look into elseif statements.*\n"
      ]
    },
    {
      "cell_type": "code",
      "metadata": {
        "id": "-ha9S1Am0SSO",
        "colab": {
          "base_uri": "https://localhost:8080/",
          "height": 86
        },
        "outputId": "a98b358e-7747-4d64-a8d5-86435d762ebd"
      },
      "source": [
        "if(True):\n",
        "    print('Booleans are great!')\n",
        "    \n",
        "if(False):\n",
        "    print('This will never be printed!')\n",
        "\n",
        "print('Is a greater than 0?', a>0)\n",
        "\n",
        "if(a > 0):\n",
        "    print('a is greater than 0!')\n",
        "    \n",
        "if(a+b == c):\n",
        "    print('Yep, a+b=', a+b)\n",
        "else:\n",
        "    print('Nope, a+b=', a+b)"
      ],
      "execution_count": null,
      "outputs": [
        {
          "output_type": "stream",
          "text": [
            "Booleans are great!\n",
            "Is a greater than 0? True\n",
            "a is greater than 0!\n",
            "Nope, a+b= 5\n"
          ],
          "name": "stdout"
        }
      ]
    },
    {
      "cell_type": "markdown",
      "metadata": {
        "id": "Rmd_f-wx0SSb"
      },
      "source": [
        "## Functions\n",
        "Functions are used to define lines of code we wish to execute later or reuse. Functions may return a variable from being called, which is signified by their return statement. A return statement is optional. Functions can take in parameters with and/or without key-word arguments (kwargs).\n",
        "\n",
        "Functions are very powerful. If find yourself copying and pasting code in multiple places, consider writing a function instead."
      ]
    },
    {
      "cell_type": "code",
      "metadata": {
        "id": "jErlzKux0SSe",
        "colab": {
          "base_uri": "https://localhost:8080/",
          "height": 34
        },
        "outputId": "c01a896e-b39c-4772-f670-7a9b03358179"
      },
      "source": [
        "def myPrintFunc(x):\n",
        "    print('var = ', x)\n",
        "    \n",
        "def myFunc(x,y):\n",
        "    return x+y\n",
        "\n",
        "a = myFunc(a,b)\n",
        "\n",
        "def myFunc2(x, y, show=True):\n",
        "    w = myFunc(x, y)\n",
        "    if(show):\n",
        "        myPrintFunc(w)\n",
        "    return w\n",
        "    \n",
        "a = myFunc2(a,b)\n",
        "a = myFunc2(a,b, show=False)"
      ],
      "execution_count": null,
      "outputs": [
        {
          "output_type": "stream",
          "text": [
            "var =  7\n"
          ],
          "name": "stdout"
        }
      ]
    },
    {
      "cell_type": "markdown",
      "metadata": {
        "id": "zNTCXM520SSq"
      },
      "source": [
        "## Lists\n",
        "Python has a datatype of lists, which stores an ordered array of objects. Objects in the list may be accessed and altered by indexing. *Extra: dictionaries*."
      ]
    },
    {
      "cell_type": "code",
      "metadata": {
        "id": "CKre95Jf0SSs",
        "colab": {
          "base_uri": "https://localhost:8080/",
          "height": 139
        },
        "outputId": "14135b35-e721-4570-a571-c7e418c9e505"
      },
      "source": [
        "list_x = [2,-5,6,False,56]\n",
        "\n",
        "print(list_x)\n",
        "\n",
        "# indexing\n",
        "print(list_x[0])\n",
        "print(list_x[2])\n",
        "print(list_x[-2])\n",
        "print(list_x[1:4])\n",
        "print(list_x[:4])\n",
        "print(list_x[3:])"
      ],
      "execution_count": null,
      "outputs": [
        {
          "output_type": "stream",
          "text": [
            "[2, -5, 6, False, 56]\n",
            "2\n",
            "6\n",
            "False\n",
            "[-5, 6, False]\n",
            "[2, -5, 6, False]\n",
            "[False, 56]\n"
          ],
          "name": "stdout"
        }
      ]
    },
    {
      "cell_type": "markdown",
      "metadata": {
        "id": "w_uQJ9hL0SS3"
      },
      "source": [
        "## Loops\n",
        "While-loops execute the same lines of code until a condition is broken.\n",
        "For-loops iterate over an object while executing the same lines of code, until the iteration reaches its end.\n",
        "All for-loops may be equivalently written with while-loops."
      ]
    },
    {
      "cell_type": "code",
      "metadata": {
        "id": "5cPSuEif0SS6",
        "colab": {
          "base_uri": "https://localhost:8080/",
          "height": 503
        },
        "outputId": "36bd2b49-cf97-4b2e-81e9-78d31933d4f6"
      },
      "source": [
        "# while loop example\n",
        "# initialize the variable\n",
        "\n",
        "print(\"---- while loop 1 ----\")\n",
        "sum = 0\n",
        "i = 1\n",
        "while(i<5):\n",
        "    print(i)\n",
        "    sum = sum + i\n",
        "    i = i + 1\n",
        "\n",
        "print(\"Sum of first 4 natural numbers : \", sum)\n",
        "\n",
        "print(\"---- while loop 2 ----\")\n",
        "i=0\n",
        "while(i<len(list_x)):\n",
        "    print(\"list_x[%d] = \" % i, list_x[i])\n",
        "    i = i+1\n",
        "\n",
        "print(\"---- for loop 1 ----\")\n",
        "for ele in list_x:\n",
        "    print(ele)\n",
        "\n",
        "print(\"---- for loop 2 ----\")\n",
        "# equivalent for loop\n",
        "for i in range(len(list_x)):\n",
        "    print(\"list_x[%d] = \" % i, list_x[i])\n",
        "    \n",
        "print(\"---- for loop 3 ----\")\n",
        "# breaking out of a for loop\n",
        "for i in range(len(list_x)):\n",
        "    if(list_x[i] == False):\n",
        "        break\n",
        "    print(\"list_x[%d] = \" % i, list_x[i])\n"
      ],
      "execution_count": null,
      "outputs": [
        {
          "output_type": "stream",
          "text": [
            "---- while loop 1 ----\n",
            "1\n",
            "2\n",
            "3\n",
            "4\n",
            "Sum of first 4 natural numbers :  10\n",
            "---- while loop 2 ----\n",
            "list_x[0] =  2\n",
            "list_x[1] =  -5\n",
            "list_x[2] =  6\n",
            "list_x[3] =  False\n",
            "list_x[4] =  56\n",
            "---- for loop 1 ----\n",
            "2\n",
            "-5\n",
            "6\n",
            "False\n",
            "56\n",
            "---- for loop 2 ----\n",
            "list_x[0] =  2\n",
            "list_x[1] =  -5\n",
            "list_x[2] =  6\n",
            "list_x[3] =  False\n",
            "list_x[4] =  56\n",
            "---- for loop 3 ----\n",
            "list_x[0] =  2\n",
            "list_x[1] =  -5\n",
            "list_x[2] =  6\n"
          ],
          "name": "stdout"
        }
      ]
    },
    {
      "cell_type": "markdown",
      "metadata": {
        "id": "ZsuEwEk30STK"
      },
      "source": [
        "## Strings\n",
        "Strings in python are treated as lists of characters. There are a bunch of built-in functions dealing with strings that you should look up. *Extra: ```find()```"
      ]
    },
    {
      "cell_type": "code",
      "metadata": {
        "id": "KfwqYZsE0STM",
        "colab": {
          "base_uri": "https://localhost:8080/",
          "height": 69
        },
        "outputId": "5277a41d-6e52-4780-ee06-6f0c3ef0423d"
      },
      "source": [
        "this_string = \"hello everyone\"\n",
        "\n",
        "print(this_string[4])\n",
        "print(this_string[2:8])\n",
        "print(len(this_string))"
      ],
      "execution_count": null,
      "outputs": [
        {
          "output_type": "stream",
          "text": [
            "o\n",
            "llo ev\n",
            "14\n"
          ],
          "name": "stdout"
        }
      ]
    },
    {
      "cell_type": "markdown",
      "metadata": {
        "id": "RUcWPjFE0STW"
      },
      "source": [
        "## Classes\n",
        "So far we've seen the data-types of integers, floats (non-integer numbers), booleans, strings, and characters. Most modern programming languages allow us to basically define our own data-types in the form of **classes**. \n",
        "\n",
        "We instiate instances of our new datatype by callling the class, which automatically calls the init function. These class objects then have values and functions associated with them, that can be accessed by the \"dot\": ```my_object.my_value``` or ```my_object.my_function```. \n",
        "\n",
        "Though you may not need to make a class for this class, it makes life easier when we understand why we're writing code the way we are."
      ]
    },
    {
      "cell_type": "code",
      "metadata": {
        "id": "lN9r5UXy0STX",
        "colab": {
          "base_uri": "https://localhost:8080/"
        },
        "outputId": "045a3503-aa45-4ae6-ad90-c8abfee154bc"
      },
      "source": [
        "class MyClass:\n",
        "    # init function must be called __init__\n",
        "    def __init__(self, value=0, string=\"...\"):\n",
        "        self.my_val = value\n",
        "        self.my_str = string\n",
        "    # all other functions can be called whatever you like\n",
        "    def increment(self, inc=1):\n",
        "        self.my_val += inc\n",
        "    \n",
        "    # all functions of the class need self as a parameter\n",
        "    def printStr(self):\n",
        "        print(self.my_str)\n",
        "        \n",
        "my_object = MyClass(10, \"Haoran\")\n",
        "\n",
        "print(my_object.my_val)\n",
        "print(my_object.my_str)\n",
        "\n",
        "my_object.increment(2)\n",
        "print(my_object.my_val)\n",
        "\n",
        "my_object.printStr()"
      ],
      "execution_count": 1,
      "outputs": [
        {
          "output_type": "stream",
          "text": [
            "10\n",
            "Haoran\n",
            "12\n",
            "Haoran\n"
          ],
          "name": "stdout"
        }
      ]
    }
  ]
}