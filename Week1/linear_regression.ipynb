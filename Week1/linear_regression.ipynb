{
  "nbformat": 4,
  "nbformat_minor": 0,
  "metadata": {
    "colab": {
      "name": "linear_regression.ipynb",
      "provenance": [],
      "collapsed_sections": [
        "K2l5ZAAmVaGl"
      ]
    },
    "kernelspec": {
      "name": "python3",
      "display_name": "Python 3"
    }
  },
  "cells": [
    {
      "cell_type": "markdown",
      "metadata": {
        "id": "Eqb1iCDHPpvZ"
      },
      "source": [
        "# Day 2: Linear Regression\n",
        "## Module Outline:\n",
        "- M2: *Lab*: Simple Linear Model\n",
        "- M3: *Lab*: Goodness of Fit\n",
        "- M4: *Demo*: Statistics of the LS Solution\n",
        "- M5: *Demo*: Least Squares Solution\n",
        "- M6: *Demo*: Multivariable Regression on Boston Housing Data\n",
        "- M7: *Demo*: Transformed Output Using Cars MPG Data\n",
        "- M8: *Lab*: Multiple Linear Regression for Robot Arm Calibration\n",
        "- M9: *Demo*: Polynomial Regression\n",
        "- M10: *Demo*: Transformed Linear Model\n",
        "- M11: *Lab*: Transformed Linear Model"
      ]
    },
    {
      "cell_type": "markdown",
      "metadata": {
        "id": "31qLu9cN8-sq"
      },
      "source": [
        "# M2: *Lab*: Simple Linear Model\n",
        "\n"
      ]
    },
    {
      "cell_type": "markdown",
      "metadata": {
        "id": "1v4lR_0tG9mk"
      },
      "source": [
        "In this demo, you will load data, plot data, perform simple mathematical manipulations, and fit a straight line to a model. This demo uses the Boston housing data set, a widely-used machine learning data set for illustrating basic concepts.  "
      ]
    },
    {
      "cell_type": "markdown",
      "metadata": {
        "id": "KhpXao0R92Qm"
      },
      "source": [
        "## Loading the data"
      ]
    },
    {
      "cell_type": "markdown",
      "metadata": {
        "id": "sBBHo84gDuwz"
      },
      "source": [
        "The Boston housing data set was collected in the 1970s to study the relationship between house price and various factors such as the house size, crime rate, socio-economic status, etc.  Since the variables are easy to understand, the data set is ideal for learning basic concepts in machine learning.  The raw data and a complete description of the dataset can be found on the UCI website:\n",
        "\n",
        "https://archive.ics.uci.edu/ml/datasets/Housing\n",
        "\n",
        "First, use `pd.read_csv` command to read the data from the file located at\n",
        "\n",
        "https://archive.ics.uci.edu/ml/machine-learning-databases/housing/housing.data"
      ]
    },
    {
      "cell_type": "code",
      "metadata": {
        "id": "qkvuxuiq97Ji",
        "colab": {
          "base_uri": "https://localhost:8080/",
          "height": 204
        },
        "outputId": "cad2fc77-190b-4ce1-fec8-e1519b2ee976"
      },
      "source": [
        "import pandas as pd\n",
        "import numpy as np\n",
        "names =[\n",
        "    'CRIM', 'ZN', 'INDUS', 'CHAS', 'NOX', 'RM', \n",
        "    'AGE',  'DIS', 'RAD', 'TAX', 'PTRATIO', 'B', 'LSTAT', 'PRICE']\n",
        "\n",
        "df = pd.read_csv('https://archive.ics.uci.edu/ml/machine-learning-databases/housing/housing.data', \n",
        "                 header=None, names=names, delim_whitespace=True,na_values='?')\n",
        "\n",
        "df.head(5)  # print the first six examples"
      ],
      "execution_count": null,
      "outputs": [
        {
          "output_type": "execute_result",
          "data": {
            "text/html": [
              "<div>\n",
              "<style scoped>\n",
              "    .dataframe tbody tr th:only-of-type {\n",
              "        vertical-align: middle;\n",
              "    }\n",
              "\n",
              "    .dataframe tbody tr th {\n",
              "        vertical-align: top;\n",
              "    }\n",
              "\n",
              "    .dataframe thead th {\n",
              "        text-align: right;\n",
              "    }\n",
              "</style>\n",
              "<table border=\"1\" class=\"dataframe\">\n",
              "  <thead>\n",
              "    <tr style=\"text-align: right;\">\n",
              "      <th></th>\n",
              "      <th>CRIM</th>\n",
              "      <th>ZN</th>\n",
              "      <th>INDUS</th>\n",
              "      <th>CHAS</th>\n",
              "      <th>NOX</th>\n",
              "      <th>RM</th>\n",
              "      <th>AGE</th>\n",
              "      <th>DIS</th>\n",
              "      <th>RAD</th>\n",
              "      <th>TAX</th>\n",
              "      <th>PTRATIO</th>\n",
              "      <th>B</th>\n",
              "      <th>LSTAT</th>\n",
              "      <th>PRICE</th>\n",
              "    </tr>\n",
              "  </thead>\n",
              "  <tbody>\n",
              "    <tr>\n",
              "      <th>0</th>\n",
              "      <td>0.00632</td>\n",
              "      <td>18.0</td>\n",
              "      <td>2.31</td>\n",
              "      <td>0</td>\n",
              "      <td>0.538</td>\n",
              "      <td>6.575</td>\n",
              "      <td>65.2</td>\n",
              "      <td>4.0900</td>\n",
              "      <td>1</td>\n",
              "      <td>296.0</td>\n",
              "      <td>15.3</td>\n",
              "      <td>396.90</td>\n",
              "      <td>4.98</td>\n",
              "      <td>24.0</td>\n",
              "    </tr>\n",
              "    <tr>\n",
              "      <th>1</th>\n",
              "      <td>0.02731</td>\n",
              "      <td>0.0</td>\n",
              "      <td>7.07</td>\n",
              "      <td>0</td>\n",
              "      <td>0.469</td>\n",
              "      <td>6.421</td>\n",
              "      <td>78.9</td>\n",
              "      <td>4.9671</td>\n",
              "      <td>2</td>\n",
              "      <td>242.0</td>\n",
              "      <td>17.8</td>\n",
              "      <td>396.90</td>\n",
              "      <td>9.14</td>\n",
              "      <td>21.6</td>\n",
              "    </tr>\n",
              "    <tr>\n",
              "      <th>2</th>\n",
              "      <td>0.02729</td>\n",
              "      <td>0.0</td>\n",
              "      <td>7.07</td>\n",
              "      <td>0</td>\n",
              "      <td>0.469</td>\n",
              "      <td>7.185</td>\n",
              "      <td>61.1</td>\n",
              "      <td>4.9671</td>\n",
              "      <td>2</td>\n",
              "      <td>242.0</td>\n",
              "      <td>17.8</td>\n",
              "      <td>392.83</td>\n",
              "      <td>4.03</td>\n",
              "      <td>34.7</td>\n",
              "    </tr>\n",
              "    <tr>\n",
              "      <th>3</th>\n",
              "      <td>0.03237</td>\n",
              "      <td>0.0</td>\n",
              "      <td>2.18</td>\n",
              "      <td>0</td>\n",
              "      <td>0.458</td>\n",
              "      <td>6.998</td>\n",
              "      <td>45.8</td>\n",
              "      <td>6.0622</td>\n",
              "      <td>3</td>\n",
              "      <td>222.0</td>\n",
              "      <td>18.7</td>\n",
              "      <td>394.63</td>\n",
              "      <td>2.94</td>\n",
              "      <td>33.4</td>\n",
              "    </tr>\n",
              "    <tr>\n",
              "      <th>4</th>\n",
              "      <td>0.06905</td>\n",
              "      <td>0.0</td>\n",
              "      <td>2.18</td>\n",
              "      <td>0</td>\n",
              "      <td>0.458</td>\n",
              "      <td>7.147</td>\n",
              "      <td>54.2</td>\n",
              "      <td>6.0622</td>\n",
              "      <td>3</td>\n",
              "      <td>222.0</td>\n",
              "      <td>18.7</td>\n",
              "      <td>396.90</td>\n",
              "      <td>5.33</td>\n",
              "      <td>36.2</td>\n",
              "    </tr>\n",
              "  </tbody>\n",
              "</table>\n",
              "</div>"
            ],
            "text/plain": [
              "      CRIM    ZN  INDUS  CHAS    NOX  ...    TAX  PTRATIO       B  LSTAT  PRICE\n",
              "0  0.00632  18.0   2.31     0  0.538  ...  296.0     15.3  396.90   4.98   24.0\n",
              "1  0.02731   0.0   7.07     0  0.469  ...  242.0     17.8  396.90   9.14   21.6\n",
              "2  0.02729   0.0   7.07     0  0.469  ...  242.0     17.8  392.83   4.03   34.7\n",
              "3  0.03237   0.0   2.18     0  0.458  ...  222.0     18.7  394.63   2.94   33.4\n",
              "4  0.06905   0.0   2.18     0  0.458  ...  222.0     18.7  396.90   5.33   36.2\n",
              "\n",
              "[5 rows x 14 columns]"
            ]
          },
          "metadata": {
            "tags": []
          },
          "execution_count": 50
        }
      ]
    },
    {
      "cell_type": "markdown",
      "metadata": {
        "id": "95wDvIvY-C2q"
      },
      "source": [
        "## Data Preparation"
      ]
    },
    {
      "cell_type": "markdown",
      "metadata": {
        "id": "ukIsG6znD0Qf"
      },
      "source": [
        "What is the shape of the data?  How many attributes are there?  How many samples?"
      ]
    },
    {
      "cell_type": "code",
      "metadata": {
        "id": "N4sYogQY-HfM",
        "colab": {
          "base_uri": "https://localhost:8080/"
        },
        "outputId": "bc968cff-0420-4301-f9c6-5a1a382d0620"
      },
      "source": [
        "(num_samples, num_attributes) = df.shape\n",
        "print('num samples = ',num_samples, 'num attributes =', num_attributes)"
      ],
      "execution_count": null,
      "outputs": [
        {
          "output_type": "stream",
          "text": [
            "num samples =  506 num attributes = 14\n"
          ],
          "name": "stdout"
        }
      ]
    },
    {
      "cell_type": "markdown",
      "metadata": {
        "id": "lArclEEC-UKF"
      },
      "source": [
        "### Target Vector"
      ]
    },
    {
      "cell_type": "markdown",
      "metadata": {
        "id": "Jb9_GTLkERDE"
      },
      "source": [
        "Create a response vector `y` with the values in the column `PRICE`.  The vector `y` should be a 1D `numpy.array` structure."
      ]
    },
    {
      "cell_type": "code",
      "metadata": {
        "id": "8i34YlOC-f_J"
      },
      "source": [
        "df.columns.tolist()\n",
        "y = df['PRICE']\n"
      ],
      "execution_count": null,
      "outputs": []
    },
    {
      "cell_type": "markdown",
      "metadata": {
        "id": "EnZKKWBpEUx4"
      },
      "source": [
        "### Predictor Vector"
      ]
    },
    {
      "cell_type": "markdown",
      "metadata": {
        "id": "8bIhcrg4Eais"
      },
      "source": [
        "Similar to the `y` vector, create a predictor vector `x` containing the values in the `RM` column, which represents the average number of rooms in each region.\n",
        "\n"
      ]
    },
    {
      "cell_type": "code",
      "metadata": {
        "id": "VbCJLJXaEhb0"
      },
      "source": [
        "x = df['RM']"
      ],
      "execution_count": null,
      "outputs": []
    },
    {
      "cell_type": "markdown",
      "metadata": {
        "id": "K98A9rjtEnSe"
      },
      "source": [
        "## Visualizing the Data"
      ]
    },
    {
      "cell_type": "markdown",
      "metadata": {
        "id": "KDkvE7uOEvtw"
      },
      "source": [
        "Python's `matplotlib` has very good routines for plotting and visualizing data that closely follows the format of MATLAB programs.  You can load the `matplotlib` package with the following commands."
      ]
    },
    {
      "cell_type": "code",
      "metadata": {
        "id": "L7INi3ZQEyUw"
      },
      "source": [
        "import matplotlib\n",
        "import matplotlib.pyplot as plt\n",
        "%matplotlib inline"
      ],
      "execution_count": null,
      "outputs": []
    },
    {
      "cell_type": "markdown",
      "metadata": {
        "id": "1nJcMoEOE0jQ"
      },
      "source": [
        "Create a scatter plot of the price vs. the `RM` attribute. "
      ]
    },
    {
      "cell_type": "code",
      "metadata": {
        "id": "iT_L5xD0E47h",
        "colab": {
          "base_uri": "https://localhost:8080/",
          "height": 279
        },
        "outputId": "316b5265-53e0-4436-9f0e-8b048f201237"
      },
      "source": [
        "plt.plot(x,y,'o')\n",
        "plt.xlabel('Average number of rooms in a region')\n",
        "plt.ylabel('Price')\n",
        "plt.grid(True)"
      ],
      "execution_count": null,
      "outputs": [
        {
          "output_type": "display_data",
          "data": {
            "image/png": "[encoded data removed]",
            "text/plain": [
              "<Figure size 432x288 with 1 Axes>"
            ]
          },
          "metadata": {
            "tags": [],
            "needs_background": "light"
          }
        }
      ]
    },
    {
      "cell_type": "markdown",
      "metadata": {
        "id": "unXH0e2fFIlt"
      },
      "source": [
        "## Manually estimate a linear model"
      ]
    },
    {
      "cell_type": "code",
      "metadata": {
        "id": "LB8QBAUkp_CO",
        "colab": {
          "base_uri": "https://localhost:8080/"
        },
        "outputId": "ea20ba68-2f29-49f8-cb52-93ee746affd2"
      },
      "source": [
        "from sklearn import linear_model\n",
        "regr = linear_model.LinearRegression() \n",
        "x_1 = np.array(x).reshape(-1,1)\n",
        "y_1 = np.array(y).reshape(-1,1)\n",
        "regr.fit(x_1, y_1)"
      ],
      "execution_count": null,
      "outputs": [
        {
          "output_type": "execute_result",
          "data": {
            "text/plain": [
              "LinearRegression(copy_X=True, fit_intercept=True, n_jobs=None, normalize=False)"
            ]
          },
          "metadata": {
            "tags": []
          },
          "execution_count": 56
        }
      ]
    },
    {
      "cell_type": "code",
      "metadata": {
        "id": "1ozW0er1qz-X",
        "colab": {
          "base_uri": "https://localhost:8080/"
        },
        "outputId": "4e65e718-7e75-4ddf-9c5a-4ce9e9de92fb"
      },
      "source": [
        "ypred = regr.predict(x_1)\n",
        "\n",
        "error = np.mean((y_1 - ypred)**2)\n",
        "print(error)\n",
        "print(y_1.shape)\n",
        "print(ypred.shape)\n",
        "\n",
        "print(regr.intercept_)\n",
        "print(regr.coef_)"
      ],
      "execution_count": null,
      "outputs": [
        {
          "output_type": "stream",
          "text": [
            "43.60055177116956\n",
            "(506, 1)\n",
            "(506, 1)\n",
            "[-34.67062078]\n",
            "[[9.10210898]]\n"
          ],
          "name": "stdout"
        }
      ]
    },
    {
      "cell_type": "markdown",
      "metadata": {
        "id": "75E6UwPkFWGT"
      },
      "source": [
        "We will fit a line to these data points. Roughly estimate the slope and y-intercept of the line that best fits this data.\n",
        "\n",
        "Now, Replot the scatter plot above, but now with the line on top of the above plot"
      ]
    },
    {
      "cell_type": "code",
      "metadata": {
        "id": "l7NHaEZiFb1w",
        "colab": {
          "base_uri": "https://localhost:8080/",
          "height": 279
        },
        "outputId": "8d06f96b-ca57-477a-9974-0f4973287ebc"
      },
      "source": [
        "beta1 = 9\n",
        "beta0 = -30\n",
        "xplt = np.array([3,9]) \n",
        "yplt = beta1*xplt + beta0\n",
        "plt.plot(x,y,'o')    # Plot the data points\n",
        "bottom, top = plt.ylim()\n",
        "plt.ylim((bottom, top))\n",
        "plt.plot(xplt,yplt,'-',linewidth=3)  # Plot the regression line\n",
        "plt.xlabel('Average number of rooms in a region')\n",
        "plt.ylabel('Price')\n",
        "plt.grid(True)"
      ],
      "execution_count": null,
      "outputs": [
        {
          "output_type": "display_data",
          "data": {
            "image/png": "[encoded data removed]",
            "text/plain": [
              "<Figure size 432x288 with 1 Axes>"
            ]
          },
          "metadata": {
            "tags": [],
            "needs_background": "light"
          }
        }
      ]
    },
    {
      "cell_type": "markdown",
      "metadata": {
        "id": "9scXzVstFy5c"
      },
      "source": [
        "# M3: *Demo*: Goodness of Fit"
      ]
    },
    {
      "cell_type": "markdown",
      "metadata": {
        "id": "tCp0B0qhF4wP"
      },
      "source": [
        "There are several metrics that can measure the goodness of the fit. We will discuss about them as we go along. \n",
        "The (normalized) residual sum of squares, $$MSE=\\frac{1}{N} \\sum_{i=1}^{N} (y_i-\\hat{y}_i)^2$$\n",
        "   is one such metric shown below."
      ]
    },
    {
      "cell_type": "code",
      "metadata": {
        "id": "LZIAfkf-GCE4",
        "colab": {
          "base_uri": "https://localhost:8080/"
        },
        "outputId": "e90b39c9-b14e-4456-f2dd-82dbfab173bd"
      },
      "source": [
        "yhat=beta0+beta1*x\n",
        "MSE = np.mean((y-yhat)**2)\n",
        "print(\"RSS = {0:7.2f}\".format(MSE))"
      ],
      "execution_count": null,
      "outputs": [
        {
          "output_type": "stream",
          "text": [
            "RSS =   59.84\n"
          ],
          "name": "stdout"
        }
      ]
    },
    {
      "cell_type": "markdown",
      "metadata": {
        "id": "vjUPfPJk-iuG"
      },
      "source": [
        "# M4: *Demo*: Statistics for Least-Squares Solution \n"
      ]
    },
    {
      "cell_type": "markdown",
      "metadata": {
        "id": "x-0OY_orGXju"
      },
      "source": [
        "## Basic Manipulations on the data\n",
        "\n"
      ]
    },
    {
      "cell_type": "markdown",
      "metadata": {
        "id": "lzn7NBnlGl4W"
      },
      "source": [
        "Use the response vector `y` to find the mean house price in thousands and the fraction of homes that are above $40k. (You may realize this is very cheap.  Prices have gone up a lot since the 1970s!)."
      ]
    },
    {
      "cell_type": "code",
      "metadata": {
        "id": "KI66pclc-rtb",
        "colab": {
          "base_uri": "https://localhost:8080/"
        },
        "outputId": "793b421e-d1e7-4936-ef4a-f4ded53df358"
      },
      "source": [
        "mean = np.mean(y)\n",
        "j = 0;\n",
        "for i in range(len(y)):\n",
        "    if y[i] >= 40:\n",
        "        j = j+1      \n",
        "percent = (j/len(y))*100\n",
        "print('The mean house price is', mean, 'thousands of dollars')\n",
        "print('Only', percent, 'percent are above $40k')"
      ],
      "execution_count": null,
      "outputs": [
        {
          "output_type": "stream",
          "text": [
            "The mean house price is 22.532806324110698 thousands of dollars\n",
            "Only 6.126482213438735 percent are above $40k\n"
          ],
          "name": "stdout"
        }
      ]
    },
    {
      "cell_type": "markdown",
      "metadata": {
        "id": "pLKDzpEc-izK"
      },
      "source": [
        "## Calculate the mean, variance, covariance to find the model parameters"
      ]
    },
    {
      "cell_type": "code",
      "metadata": {
        "id": "eOi0UDqqIP_D"
      },
      "source": [
        "xm = np.mean(x)\n",
        "ym = np.mean(y)\n",
        "syy = np.mean((y-ym)**2)\n",
        "syx = np.mean((y-ym)*(x-xm))\n",
        "sxx = np.mean((x-xm)**2)"
      ],
      "execution_count": null,
      "outputs": []
    },
    {
      "cell_type": "markdown",
      "metadata": {
        "id": "n9FnsN9XI6gN"
      },
      "source": [
        "# M5: *Demo*: Least-Squares Solution"
      ]
    },
    {
      "cell_type": "markdown",
      "metadata": {
        "id": "792KvKYeJB6N"
      },
      "source": [
        "##Computing the parameters for linear fit"
      ]
    },
    {
      "cell_type": "markdown",
      "metadata": {
        "id": "CHNjYJBkJXiT"
      },
      "source": [
        "We can now try to fit a linear model,  $\\hat{y} = \\beta_0 + \\beta_1 x$. From class, the formulae are: $$\\beta_1 = s_{yx}/s_{xx}, \\quad \\beta_0 = \\bar{y} - \\beta_1\\bar{x},$$ where $\\bar{x}$ and $\\bar{y}$ are the sample means and $s_{yx}$ and $s_{xx}$ are the covariance and variances"
      ]
    },
    {
      "cell_type": "code",
      "metadata": {
        "id": "A3e76tXXJBJ_",
        "colab": {
          "base_uri": "https://localhost:8080/"
        },
        "outputId": "b951c7ed-c020-46a7-9d1d-0b6412eb541d"
      },
      "source": [
        "beta1 = syx/sxx\n",
        "beta0 = ym - beta1*xm\n",
        "\n",
        "print(\"xbar     ={0:7.2f},       ybar={1:7.2f}\".format(xm,ym))\n",
        "print(\"sqrt(sxx)={0:7.2f},  sqrt(syy)={1:7.2f}\".format(np.sqrt(sxx),np.sqrt(syy)))\n",
        "print(\"beta0={0:7.2f}, beta1={1:7.2f}\".format(beta0,beta1))"
      ],
      "execution_count": null,
      "outputs": [
        {
          "output_type": "stream",
          "text": [
            "xbar     =   6.28,       ybar=  22.53\n",
            "sqrt(sxx)=   0.70,  sqrt(syy)=   9.19\n",
            "beta0= -34.67, beta1=   9.10\n"
          ],
          "name": "stdout"
        }
      ]
    },
    {
      "cell_type": "markdown",
      "metadata": {
        "id": "8Izajg26Jh08"
      },
      "source": [
        "## Plotting the linear fit"
      ]
    },
    {
      "cell_type": "markdown",
      "metadata": {
        "id": "jrW6LIJHJoUk"
      },
      "source": [
        "We can create a plot of the regression line on top of the scatter plot. The vector xplt are the x-coordinates of the two endpoints of the line. They are chosen so that the line fits nicely in the plot."
      ]
    },
    {
      "cell_type": "code",
      "metadata": {
        "id": "T3LPfkgJJx0G",
        "colab": {
          "base_uri": "https://localhost:8080/",
          "height": 279
        },
        "outputId": "4c929d19-42bc-4ccc-831a-1a5b8773708a"
      },
      "source": [
        "# Points on the regression line\n",
        "xplt = np.array([3,9])          \n",
        "yplt = beta1*xplt + beta0\n",
        "\n",
        "plt.plot(x,y,'o')                    # Plot the data points\n",
        "plt.plot(xplt,yplt,'-',linewidth=3)  # Plot the regression line\n",
        "plt.xlabel('Average number of rooms in a region')\n",
        "plt.ylabel('Price')\n",
        "plt.grid(True)"
      ],
      "execution_count": null,
      "outputs": [
        {
          "output_type": "display_data",
          "data": {
            "image/png": "[encoded data removed]",
            "text/plain": [
              "<Figure size 432x288 with 1 Axes>"
            ]
          },
          "metadata": {
            "tags": [],
            "needs_background": "light"
          }
        }
      ]
    },
    {
      "cell_type": "markdown",
      "metadata": {
        "id": "jTKjzQJGKGZc"
      },
      "source": [
        "## Goodness of fit"
      ]
    },
    {
      "cell_type": "code",
      "metadata": {
        "id": "SvhaVSi2KBpG",
        "colab": {
          "base_uri": "https://localhost:8080/"
        },
        "outputId": "0bfb4f72-f3e0-4a75-8885-5a67cb8ed00d"
      },
      "source": [
        "yhat=beta0+beta1*x\n",
        "MSE = np.mean((y-yhat)**2)\n",
        "print(\"MSE = {0:7.2f}\".format(MSE))"
      ],
      "execution_count": null,
      "outputs": [
        {
          "output_type": "stream",
          "text": [
            "MSE =   43.60\n"
          ],
          "name": "stdout"
        }
      ]
    },
    {
      "cell_type": "markdown",
      "metadata": {
        "id": "w78DOASLWcCD"
      },
      "source": [
        "# M6: *Demo*: Multivariable Regression on Boston Housing Data"
      ]
    },
    {
      "cell_type": "markdown",
      "metadata": {
        "id": "JRrZ5gJhX2Hk"
      },
      "source": [
        "Code that should already have come before...\n",
        "\n",
        "Let's read in the data and see what it looks like..."
      ]
    },
    {
      "cell_type": "code",
      "metadata": {
        "id": "iDw4tjflX1C1",
        "colab": {
          "base_uri": "https://localhost:8080/",
          "height": 235
        },
        "outputId": "47bf6984-bbe0-4156-b0be-32f24806c906"
      },
      "source": [
        "import pandas as pd\n",
        "import numpy as np\n",
        "\n",
        "names =[\n",
        "    'CRIM', 'ZN', 'INDUS', 'CHAS', 'NOX', 'RM', \n",
        "    'AGE',  'DIS', 'RAD', 'TAX', 'PTRATIO', 'B', 'LSTAT', 'PRICE']\n",
        "\n",
        "df = pd.read_csv('https://archive.ics.uci.edu/ml/machine-learning-databases/housing/housing.data', \n",
        "                 header=None,delim_whitespace=True,names=names,na_values='?')\n",
        "\n",
        "df.head(6)  # print the first six samples"
      ],
      "execution_count": null,
      "outputs": [
        {
          "output_type": "execute_result",
          "data": {
            "text/html": [
              "<div>\n",
              "<style scoped>\n",
              "    .dataframe tbody tr th:only-of-type {\n",
              "        vertical-align: middle;\n",
              "    }\n",
              "\n",
              "    .dataframe tbody tr th {\n",
              "        vertical-align: top;\n",
              "    }\n",
              "\n",
              "    .dataframe thead th {\n",
              "        text-align: right;\n",
              "    }\n",
              "</style>\n",
              "<table border=\"1\" class=\"dataframe\">\n",
              "  <thead>\n",
              "    <tr style=\"text-align: right;\">\n",
              "      <th></th>\n",
              "      <th>CRIM</th>\n",
              "      <th>ZN</th>\n",
              "      <th>INDUS</th>\n",
              "      <th>CHAS</th>\n",
              "      <th>NOX</th>\n",
              "      <th>RM</th>\n",
              "      <th>AGE</th>\n",
              "      <th>DIS</th>\n",
              "      <th>RAD</th>\n",
              "      <th>TAX</th>\n",
              "      <th>PTRATIO</th>\n",
              "      <th>B</th>\n",
              "      <th>LSTAT</th>\n",
              "      <th>PRICE</th>\n",
              "    </tr>\n",
              "  </thead>\n",
              "  <tbody>\n",
              "    <tr>\n",
              "      <th>0</th>\n",
              "      <td>0.00632</td>\n",
              "      <td>18.0</td>\n",
              "      <td>2.31</td>\n",
              "      <td>0</td>\n",
              "      <td>0.538</td>\n",
              "      <td>6.575</td>\n",
              "      <td>65.2</td>\n",
              "      <td>4.0900</td>\n",
              "      <td>1</td>\n",
              "      <td>296.0</td>\n",
              "      <td>15.3</td>\n",
              "      <td>396.90</td>\n",
              "      <td>4.98</td>\n",
              "      <td>24.0</td>\n",
              "    </tr>\n",
              "    <tr>\n",
              "      <th>1</th>\n",
              "      <td>0.02731</td>\n",
              "      <td>0.0</td>\n",
              "      <td>7.07</td>\n",
              "      <td>0</td>\n",
              "      <td>0.469</td>\n",
              "      <td>6.421</td>\n",
              "      <td>78.9</td>\n",
              "      <td>4.9671</td>\n",
              "      <td>2</td>\n",
              "      <td>242.0</td>\n",
              "      <td>17.8</td>\n",
              "      <td>396.90</td>\n",
              "      <td>9.14</td>\n",
              "      <td>21.6</td>\n",
              "    </tr>\n",
              "    <tr>\n",
              "      <th>2</th>\n",
              "      <td>0.02729</td>\n",
              "      <td>0.0</td>\n",
              "      <td>7.07</td>\n",
              "      <td>0</td>\n",
              "      <td>0.469</td>\n",
              "      <td>7.185</td>\n",
              "      <td>61.1</td>\n",
              "      <td>4.9671</td>\n",
              "      <td>2</td>\n",
              "      <td>242.0</td>\n",
              "      <td>17.8</td>\n",
              "      <td>392.83</td>\n",
              "      <td>4.03</td>\n",
              "      <td>34.7</td>\n",
              "    </tr>\n",
              "    <tr>\n",
              "      <th>3</th>\n",
              "      <td>0.03237</td>\n",
              "      <td>0.0</td>\n",
              "      <td>2.18</td>\n",
              "      <td>0</td>\n",
              "      <td>0.458</td>\n",
              "      <td>6.998</td>\n",
              "      <td>45.8</td>\n",
              "      <td>6.0622</td>\n",
              "      <td>3</td>\n",
              "      <td>222.0</td>\n",
              "      <td>18.7</td>\n",
              "      <td>394.63</td>\n",
              "      <td>2.94</td>\n",
              "      <td>33.4</td>\n",
              "    </tr>\n",
              "    <tr>\n",
              "      <th>4</th>\n",
              "      <td>0.06905</td>\n",
              "      <td>0.0</td>\n",
              "      <td>2.18</td>\n",
              "      <td>0</td>\n",
              "      <td>0.458</td>\n",
              "      <td>7.147</td>\n",
              "      <td>54.2</td>\n",
              "      <td>6.0622</td>\n",
              "      <td>3</td>\n",
              "      <td>222.0</td>\n",
              "      <td>18.7</td>\n",
              "      <td>396.90</td>\n",
              "      <td>5.33</td>\n",
              "      <td>36.2</td>\n",
              "    </tr>\n",
              "    <tr>\n",
              "      <th>5</th>\n",
              "      <td>0.02985</td>\n",
              "      <td>0.0</td>\n",
              "      <td>2.18</td>\n",
              "      <td>0</td>\n",
              "      <td>0.458</td>\n",
              "      <td>6.430</td>\n",
              "      <td>58.7</td>\n",
              "      <td>6.0622</td>\n",
              "      <td>3</td>\n",
              "      <td>222.0</td>\n",
              "      <td>18.7</td>\n",
              "      <td>394.12</td>\n",
              "      <td>5.21</td>\n",
              "      <td>28.7</td>\n",
              "    </tr>\n",
              "  </tbody>\n",
              "</table>\n",
              "</div>"
            ],
            "text/plain": [
              "      CRIM    ZN  INDUS  CHAS    NOX  ...    TAX  PTRATIO       B  LSTAT  PRICE\n",
              "0  0.00632  18.0   2.31     0  0.538  ...  296.0     15.3  396.90   4.98   24.0\n",
              "1  0.02731   0.0   7.07     0  0.469  ...  242.0     17.8  396.90   9.14   21.6\n",
              "2  0.02729   0.0   7.07     0  0.469  ...  242.0     17.8  392.83   4.03   34.7\n",
              "3  0.03237   0.0   2.18     0  0.458  ...  222.0     18.7  394.63   2.94   33.4\n",
              "4  0.06905   0.0   2.18     0  0.458  ...  222.0     18.7  396.90   5.33   36.2\n",
              "5  0.02985   0.0   2.18     0  0.458  ...  222.0     18.7  394.12   5.21   28.7\n",
              "\n",
              "[6 rows x 14 columns]"
            ]
          },
          "metadata": {
            "tags": []
          },
          "execution_count": 65
        }
      ]
    },
    {
      "cell_type": "markdown",
      "metadata": {
        "id": "3_jtITf0KLkf"
      },
      "source": [
        "## Forming the Feature Vectors\n",
        "We want to put our features into feature vectors (stacked into a feature matrix)."
      ]
    },
    {
      "cell_type": "code",
      "metadata": {
        "id": "LTKzw2raPlZj"
      },
      "source": [
        "features = df.columns.tolist()\n",
        "features.remove('PRICE')\n"
      ],
      "execution_count": null,
      "outputs": []
    },
    {
      "cell_type": "markdown",
      "metadata": {
        "id": "jhjwussDaUHG"
      },
      "source": [
        "Treat all the features as a vector, $\\mathbf{x}$, and stack the samples in a $N$ by $D$ matrix, $X$, where $N$ is the number of samples and $D$ is the number of features."
      ]
    },
    {
      "cell_type": "code",
      "metadata": {
        "id": "jS5abEJGZWEp",
        "colab": {
          "base_uri": "https://localhost:8080/"
        },
        "outputId": "7e218f18-2497-44da-d17e-0707a71f071f"
      },
      "source": [
        "X = np.hstack([df[f].values.reshape(-1,1) for f in features])\n",
        "print(X.shape)"
      ],
      "execution_count": null,
      "outputs": [
        {
          "output_type": "stream",
          "text": [
            "(506, 13)\n"
          ],
          "name": "stdout"
        }
      ]
    },
    {
      "cell_type": "markdown",
      "metadata": {
        "id": "e6eeBUv31nlW"
      },
      "source": [
        "## Normalizing the Data\n",
        "Normalize the data by $\\mathbf{Z} = \\frac{x - \\bar{x}}{\\sigma_x}$. This allows us to look at our learned parameters comparativley to see which features are most important for determining the output.\n",
        "\n",
        "It's good practice to check that what you're doing makes sense by looking at the shapes of your vectors. Numpy will sometimes allow operations to pass through that you wouldn't normally think possible with special instances of *broadcasting*."
      ]
    },
    {
      "cell_type": "code",
      "metadata": {
        "id": "W_qVYJBn16dp",
        "colab": {
          "base_uri": "https://localhost:8080/"
        },
        "outputId": "3c907931-e781-4960-adda-6e6ab5f32eb6"
      },
      "source": [
        "Xbar = np.mean(X,axis=0,keepdims=True)\n",
        "print(Xbar.shape)\n",
        "Xstd = np.std(X,axis=0,keepdims=True)\n",
        "print(Xstd.shape)\n",
        "\n",
        "X = (X-Xbar) / Xstd\n",
        "print(X[:3,:])"
      ],
      "execution_count": null,
      "outputs": [
        {
          "output_type": "stream",
          "text": [
            "(1, 13)\n",
            "(1, 13)\n",
            "[[-0.41978194  0.28482986 -1.2879095  -0.27259857 -0.14421743  0.41367189\n",
            "  -0.12001342  0.1402136  -0.98284286 -0.66660821 -1.45900038  0.44105193\n",
            "  -1.0755623 ]\n",
            " [-0.41733926 -0.48772236 -0.59338101 -0.27259857 -0.74026221  0.19427445\n",
            "   0.36716642  0.55715988 -0.8678825  -0.98732948 -0.30309415  0.44105193\n",
            "  -0.49243937]\n",
            " [-0.41734159 -0.48772236 -0.59338101 -0.27259857 -0.74026221  1.28271368\n",
            "  -0.26581176  0.55715988 -0.8678825  -0.98732948 -0.30309415  0.39642699\n",
            "  -1.2087274 ]]\n"
          ],
          "name": "stdout"
        }
      ]
    },
    {
      "cell_type": "code",
      "metadata": {
        "id": "Rfqqr2dzcIfi"
      },
      "source": [
        "\n"
      ],
      "execution_count": null,
      "outputs": []
    },
    {
      "cell_type": "markdown",
      "metadata": {
        "id": "My_yW7qiLhMd"
      },
      "source": [
        "## LS Solution\n",
        "Computing the psuedo inverse ourselves."
      ]
    },
    {
      "cell_type": "code",
      "metadata": {
        "id": "GtTB6MU6cqP1",
        "colab": {
          "base_uri": "https://localhost:8080/"
        },
        "outputId": "70f331ae-5e4e-45ea-c386-ffde7a5b3e16"
      },
      "source": [
        "(N,D) = X.shape\n",
        "\n",
        "y = df['PRICE'].values.reshape(-1,1)\n",
        "\n",
        "regr = linear_model.LinearRegression()\n",
        "print(X.shape)\n",
        "regr.fit(X, y)\n",
        "y_hat = regr.predict(X) \n",
        "\n",
        "MSE = np.sum( (y_hat - y)**2 ) / N\n",
        "print(MSE)"
      ],
      "execution_count": null,
      "outputs": [
        {
          "output_type": "stream",
          "text": [
            "(506, 13)\n",
            "21.894831181729202\n"
          ],
          "name": "stdout"
        }
      ]
    },
    {
      "cell_type": "markdown",
      "metadata": {
        "id": "FYgRc8uKMszW"
      },
      "source": [
        "Print the first values of the ground truth and model predictions to get a feel for our LS solution."
      ]
    },
    {
      "cell_type": "code",
      "metadata": {
        "id": "57Ox9Cfxfsi6",
        "colab": {
          "base_uri": "https://localhost:8080/"
        },
        "outputId": "6d76409c-cf8b-4871-9994-848b28b36108"
      },
      "source": [
        "with np.printoptions(precision=2):\n",
        "  print(y_hat[:5].flatten())\n",
        "  print(y[:5].flatten())"
      ],
      "execution_count": null,
      "outputs": [
        {
          "output_type": "stream",
          "text": [
            "[30.   25.03 30.57 28.61 27.94]\n",
            "[24.  21.6 34.7 33.4 36.2]\n"
          ],
          "name": "stdout"
        }
      ]
    },
    {
      "cell_type": "markdown",
      "metadata": {
        "id": "WuEqfbQtM52X"
      },
      "source": [
        "Printing the parameters to see which are treated most significantly. It seems that the proportion of lower-income people living in the neighborhood is the most significant indicator of housing costs (last parameter)."
      ]
    },
    {
      "cell_type": "code",
      "metadata": {
        "id": "6hMCT8G7gZRn",
        "colab": {
          "base_uri": "https://localhost:8080/"
        },
        "outputId": "9f680de9-d126-4bdb-dd8b-cf419ebd1efd"
      },
      "source": [
        "with np.printoptions(precision=2,suppress=True):\n",
        "  print(regr.intercept_)\n",
        "  print(regr.coef_)"
      ],
      "execution_count": null,
      "outputs": [
        {
          "output_type": "stream",
          "text": [
            "[22.53]\n",
            "[[-0.93  1.08  0.14  0.68 -2.06  2.67  0.02 -3.1   2.66 -2.08 -2.06  0.85\n",
            "  -3.74]]\n"
          ],
          "name": "stdout"
        }
      ]
    },
    {
      "cell_type": "markdown",
      "metadata": {
        "id": "cvEmMc7HNSEj"
      },
      "source": [
        "Using Numpy's built in function ```np.lstsq()```, we see we get the same results. Numpy has optimized their function to be much quicker, so use their's going forward."
      ]
    },
    {
      "cell_type": "code",
      "metadata": {
        "id": "WnW_X19ZguWZ",
        "colab": {
          "base_uri": "https://localhost:8080/"
        },
        "outputId": "5e81a7fa-7bb6-4e60-8e78-17ae5813c52c"
      },
      "source": [
        "soln = np.linalg.lstsq(X,y,rcond=None)\n",
        "beta = soln[0]\n",
        "MSE = soln[1] / N\n",
        "\n",
        "with np.printoptions(precision=2,suppress=True):\n",
        "  print(beta)\n",
        "  print(MSE)"
      ],
      "execution_count": null,
      "outputs": [
        {
          "output_type": "stream",
          "text": [
            "[[-0.93]\n",
            " [ 1.08]\n",
            " [ 0.14]\n",
            " [ 0.68]\n",
            " [-2.06]\n",
            " [ 2.67]\n",
            " [ 0.02]\n",
            " [-3.1 ]\n",
            " [ 2.66]\n",
            " [-2.08]\n",
            " [-2.06]\n",
            " [ 0.85]\n",
            " [-3.74]]\n",
            "[529.62]\n"
          ],
          "name": "stdout"
        }
      ]
    },
    {
      "cell_type": "markdown",
      "metadata": {
        "id": "-tvbkjNtVMA0"
      },
      "source": [
        "# M8: *Lab*: Multiple Linear Regression for Robot Arm Calibration\n",
        "\n"
      ]
    },
    {
      "cell_type": "markdown",
      "metadata": {
        "id": "PnCiIny6Wa-0"
      },
      "source": [
        "In this lab, we will illustrate the use of multiple linear regression for calibrating robot control.  In addition understanding the concepts in the multivariable linear regression demo (with Boston housing data), you will see how to use multiple linear regression for time series data -- an important concept in dynamical systems such as robotics.\n",
        "\n",
        "The robot data for the lab is taken from the TU Dortmund's [Multiple Link Robot Arms Project](http://www.rst.e-technik.tu-dortmund.de/cms/en/research/robotics/TUDOR_engl/index.html).  As part of the project, they have created an excellent public dataset: [MERIt](http://www.rst.e-technik.tu-dortmund.de/cms/en/research/robotics/TUDOR_engl/index.html#h3MERIt) -- A Multi-Elastic-Link Robot Identification Dataset that can be used for understanding robot dynamics.  The data is from a three link robot\n",
        "\n",
        "\n",
        "**We will focus on predicting the current draw into one of the joints as a function of the robot motion.  Such models are essential in predicting the overall robot power consumption.  Several other models could also be used.**"
      ]
    },
    {
      "cell_type": "markdown",
      "metadata": {
        "id": "K2l5ZAAmVaGl"
      },
      "source": [
        "#### Load and Visualize the Data\n",
        "First, import the modules we will need."
      ]
    },
    {
      "cell_type": "code",
      "metadata": {
        "id": "7ozY8h1kVc3K"
      },
      "source": [
        "import pandas as pd\n",
        "import numpy as np\n",
        "import matplotlib\n",
        "import matplotlib.pyplot as plt\n",
        "%matplotlib inline"
      ],
      "execution_count": 96,
      "outputs": []
    },
    {
      "cell_type": "markdown",
      "metadata": {
        "id": "VEcKT7nQVegq"
      },
      "source": [
        "The full MERIt dataset can be obtained from the [MERIt site](http://www.rst.e-technik.tu-dortmund.de/cms/en/research/robotics/TUDOR_engl/index.html#h3MERIt).  But, this dataset is large. Included in this repository are two of the ten experiments.  Each experiments corresonds to 80 seconds of recorded motion.  \n",
        "\n",
        "We are going to use the following file:\n",
        "* [robot_arm.csv](https://raw.githubusercontent.com/nikopj/SummerML/master/Day3/robot_arm.csv) \n",
        "\n",
        "Below, we have supplied the column headers in the `names` array.  \n",
        "\n",
        "**Use the `pd.read_csv` command to load the data.  Use the `index_col` option to specify that column 0 (the one with time) is the *index* column.**\n"
      ]
    },
    {
      "cell_type": "code",
      "metadata": {
        "id": "evMgZYlaVgdU"
      },
      "source": [
        "names =[\n",
        "    't',                                  # Time (secs)\n",
        "    'q1', 'q2', 'q3',                     # Joint angle   (rads)\n",
        "    'dq1', 'dq2', 'dq3',                  # Joint velocity (rads/sec)\n",
        "    'I1', 'I2', 'I3',                     # Motor current (A)\n",
        "    'eps21', 'eps22', 'eps31', 'eps32',   # Strain gauge measurements ($\\mu$m /m )\n",
        "    'ddq1', 'ddq2', 'ddq3'                # Joint accelerations (rad/sec^2)\n",
        "]\n",
        "\n",
        "\n",
        "# TODO \n",
        "# df = pd.read_csv(...)\n",
        "\n",
        "df = pd.read_csv('https://raw.githubusercontent.com/nikopj/SummerML/master/'\n",
        "                 +'Day3/robot_arm.csv', header=None,sep=',',names=names, \n",
        "                 index_col=0)"
      ],
      "execution_count": 98,
      "outputs": []
    },
    {
      "cell_type": "markdown",
      "metadata": {
        "id": "R5TF8ex_Viy1"
      },
      "source": [
        "Print the first six lines of the pandas dataframe and manually check that they match the first rows of the csv file."
      ]
    },
    {
      "cell_type": "markdown",
      "metadata": {
        "id": "G4e1686TYY1_"
      },
      "source": [
        "# M11: *Lab*: Fitting a curve with transformation"
      ]
    },
    {
      "cell_type": "code",
      "metadata": {
        "id": "og2gouIyJcdU",
        "colab": {
          "base_uri": "https://localhost:8080/",
          "height": 282
        },
        "outputId": "c1416fff-1dd7-45ea-fa7d-8a3f619981b8"
      },
      "source": [
        "npts = 100\n",
        "x = np.random.rand(npts,1)*2*np.pi\n",
        "y = 5*np.sin(x) + np.random.randn(npts,1)*1.5\n",
        "\n",
        "plt.scatter(x,y)"
      ],
      "execution_count": null,
      "outputs": [
        {
          "output_type": "execute_result",
          "data": {
            "text/plain": [
              "<matplotlib.collections.PathCollection at 0x7f3f61ee9c90>"
            ]
          },
          "metadata": {
            "tags": []
          },
          "execution_count": 91
        },
        {
          "output_type": "display_data",
          "data": {
            "image/png": "[encoded data removed]",
            "text/plain": [
              "<Figure size 432x288 with 1 Axes>"
            ]
          },
          "metadata": {
            "tags": [],
            "needs_background": "light"
          }
        }
      ]
    },
    {
      "cell_type": "markdown",
      "metadata": {
        "id": "zEM59QDVX1nu"
      },
      "source": [
        "#### What transformation do you think can be used to fit this curve?\n"
      ]
    }
  ]
}