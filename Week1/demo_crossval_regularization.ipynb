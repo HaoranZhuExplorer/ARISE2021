{
  "nbformat": 4,
  "nbformat_minor": 0,
  "metadata": {
    "kernelspec": {
      "display_name": "Python 3",
      "language": "python",
      "name": "python3"
    },
    "language_info": {
      "codemirror_mode": {
        "name": "ipython",
        "version": 3
      },
      "file_extension": ".py",
      "mimetype": "text/x-python",
      "name": "python",
      "nbconvert_exporter": "python",
      "pygments_lexer": "ipython3",
      "version": "3.7.3"
    },
    "colab": {
      "name": "demo_crossval_regularization.ipynb",
      "provenance": []
    }
  },
  "cells": [
    {
      "cell_type": "markdown",
      "metadata": {
        "id": "6rXAu2U1zSgY"
      },
      "source": [
        "# DEMO: Overfitting, Cross-Validation, Weight-Regularization"
      ]
    },
    {
      "cell_type": "code",
      "metadata": {
        "colab": {
          "base_uri": "https://localhost:8080/",
          "height": 283
        },
        "id": "cW6uSSKMzSgZ",
        "outputId": "0238caf8-0bfd-4679-db70-8e6832942ad9"
      },
      "source": [
        "import numpy as np\n",
        "import matplotlib\n",
        "import matplotlib.pyplot as plt\n",
        "%matplotlib inline\n",
        "\n",
        "nsamp = 25 # number of samples taken\n",
        "p = np.array([5,1,-2,-.5]) # true process coefficients\n",
        "var = 0.1 # noise variance\n",
        "\n",
        "# we'll take a set of measurements uniformly\n",
        "x = np.linspace(-1,1,nsamp)\n",
        "y_true = np.polyval(p,x)\n",
        "# noisy measurement, ym. use sqrt(var) as numpy normal standard deviation\n",
        "y = y_true + np.random.normal(0, np.sqrt(var), nsamp)\n",
        "\n",
        "plt.plot(x,y_true)\n",
        "# we can force a scatter plot in plt.plot by making the third argument 'o'\n",
        "plt.plot(x,y,'ob',markeredgecolor='black');\n",
        "plt.grid();\n",
        "plt.xlabel('x')\n",
        "plt.ylabel('y')\n",
        "plt.xlim([-1,1])\n",
        "plt.ylim([-3,4])\n",
        "plt.legend(['True Process, y_true','Noisy Measurement, y']);"
      ],
      "execution_count": 7,
      "outputs": [
        {
          "output_type": "display_data",
          "data": {
            "image/png": "[encoded data removed]",
            "text/plain": [
              "<Figure size 432x288 with 1 Axes>"
            ]
          },
          "metadata": {
            "tags": [],
            "needs_background": "light"
          }
        }
      ]
    },
    {
      "cell_type": "code",
      "metadata": {
        "id": "fvYElMPLzSgZ"
      },
      "source": [
        "# train test validation split\n",
        "ntrain = 15\n",
        "nval = 5\n",
        "ntest = 5\n",
        "\n",
        "inds = np.random.permutation(nsamp)\n",
        "train_choices = inds[:ntrain]\n",
        "val_choices = inds[ntrain:ntrain+nval]\n",
        "test_choices = inds[ntrain+nval:]\n",
        "\n",
        "xtrain, ytrain = x[train_choices], y[train_choices]\n",
        "xval, yval     = x[val_choices], y[val_choices]\n",
        "xtest, ytest   = x[test_choices], y[test_choices]"
      ],
      "execution_count": 8,
      "outputs": []
    },
    {
      "cell_type": "code",
      "metadata": {
        "colab": {
          "base_uri": "https://localhost:8080/"
        },
        "id": "1ruYbaCbzSga",
        "outputId": "89be79c8-ba8d-4071-94c0-fa3e2aaa5f50"
      },
      "source": [
        "# forming the design matrix\n",
        "# model order M\n",
        "M = 25\n",
        "\n",
        "def designMatrix(z):\n",
        "    z = z.reshape(-1,1)\n",
        "    bias_col = np.ones((z.shape[0],1))\n",
        "    Z = bias_col\n",
        "    for i in np.arange(1, M+1):\n",
        "        Z = np.hstack([Z,z**i])\n",
        "    return Z\n",
        "\n",
        "Xtrain = designMatrix(xtrain)\n",
        "print(Xtrain.shape)"
      ],
      "execution_count": 9,
      "outputs": [
        {
          "output_type": "stream",
          "text": [
            "(15, 26)\n"
          ],
          "name": "stdout"
        }
      ]
    },
    {
      "cell_type": "code",
      "metadata": {
        "colab": {
          "base_uri": "https://localhost:8080/",
          "height": 762
        },
        "id": "Zi4xw5zlzSga",
        "outputId": "ab2591d3-65c1-42b1-9b04-4ec1335876da"
      },
      "source": [
        "from sklearn import linear_model\n",
        "\n",
        "# fitting the model\n",
        "reg = linear_model.LinearRegression(fit_intercept=False)\n",
        "reg.fit(Xtrain,ytrain)\n",
        "w = reg.coef_\n",
        "\n",
        "# training error\n",
        "yhat = reg.predict(Xtrain)\n",
        "RMSE = np.sqrt( np.mean((ytrain-yhat)**2) )\n",
        "print(\"Train RMSE = %.4f\" % RMSE)\n",
        "\n",
        "# test error\n",
        "Xtest = designMatrix(xtest)\n",
        "yhat = reg.predict(Xtest)\n",
        "RMSE = np.sqrt( np.mean((ytest-yhat)**2) )\n",
        "print(\"Test RMSE = %.4f\" % RMSE)\n",
        "\n",
        "# plotting\n",
        "x_line = np.linspace(-1,1,500).reshape(-1,1)\n",
        "X_line = designMatrix(x_line)\n",
        "y_line = reg.predict(X_line)\n",
        "\n",
        "plt.figure()\n",
        "plt.plot(x_line, y_line)\n",
        "plt.plot(xtrain,ytrain,'o',markeredgecolor='black')\n",
        "plt.plot(xtest,ytest,'o',markeredgecolor='black')\n",
        "plt.xlim([-1,1])\n",
        "plt.ylim([-3,3])\n",
        "plt.legend(['Model','Train Points', 'Test Points'])\n",
        "plt.show()\n",
        "\n",
        "print(\"w = \")\n",
        "with np.printoptions(precision=2, suppress=True):\n",
        "    print(w.reshape(-1,1))"
      ],
      "execution_count": 4,
      "outputs": [
        {
          "output_type": "stream",
          "text": [
            "Train RMSE = 0.0000\n",
            "Test RMSE = 38140.4729\n"
          ],
          "name": "stdout"
        },
        {
          "output_type": "display_data",
          "data": {
            "image/png": "[encoded data removed]",
            "text/plain": [
              "<Figure size 432x288 with 1 Axes>"
            ]
          },
          "metadata": {
            "tags": [],
            "needs_background": "light"
          }
        },
        {
          "output_type": "stream",
          "text": [
            "w = \n",
            "[[    -0.36]\n",
            " [     3.2 ]\n",
            " [   -19.68]\n",
            " [  -193.33]\n",
            " [   -69.28]\n",
            " [  1763.38]\n",
            " [  5223.89]\n",
            " [ -2436.78]\n",
            " [-33677.87]\n",
            " [-20303.37]\n",
            " [ 57927.2 ]\n",
            " [ 37892.56]\n",
            " [ -4997.21]\n",
            " [ 25277.22]\n",
            " [-19811.7 ]\n",
            " [-11591.28]\n",
            " [ -8200.17]\n",
            " [-31913.5 ]\n",
            " [ -1017.75]\n",
            " [-31124.12]\n",
            " [ -4116.52]\n",
            " [-18135.72]\n",
            " [-13181.41]\n",
            " [ -1655.02]\n",
            " [-23336.53]\n",
            " [ 13198.94]]\n"
          ],
          "name": "stdout"
        }
      ]
    },
    {
      "cell_type": "code",
      "metadata": {
        "colab": {
          "base_uri": "https://localhost:8080/",
          "height": 762
        },
        "id": "tmEK4hTEzSga",
        "outputId": "e6e13af2-3d82-4ba8-dbb5-6b7d2be653de"
      },
      "source": [
        "# weight based regularization (squaring the weights in the cost function is called \"ridge regression\")\n",
        "\n",
        "# fitting the model\n",
        "reg = linear_model.Ridge(alpha=0.05, fit_intercept=False, solver='cholesky')\n",
        "reg.fit(Xtrain,ytrain)\n",
        "w = reg.coef_\n",
        "\n",
        "# training error\n",
        "yhat = reg.predict(Xtrain)\n",
        "RMSE = np.sqrt( np.mean((ytrain-yhat)**2) )\n",
        "print(\"Train RMSE = %.4f\" % RMSE)\n",
        "\n",
        "# validation error\n",
        "Xval = designMatrix(xval)\n",
        "yhat = reg.predict(Xval)\n",
        "RMSE = np.sqrt( np.mean((yval-yhat)**2) )\n",
        "print(\"Val RMSE = %.4f\" % RMSE)\n",
        "\n",
        "# plotting\n",
        "x_line = np.linspace(-1,1,500).reshape(-1,1)\n",
        "X_line = designMatrix(x_line)\n",
        "y_line = reg.predict(X_line)\n",
        "\n",
        "plt.figure()\n",
        "plt.plot(x_line, y_line)\n",
        "plt.plot(xtrain,ytrain,'o',markeredgecolor='black')\n",
        "plt.plot(xtest,ytest,'o',markeredgecolor='black')\n",
        "plt.plot(xval,yval,'o',markeredgecolor='black')\n",
        "plt.xlim([-1,1])\n",
        "plt.ylim([-3,3])\n",
        "plt.legend(['Model','Train Points', 'Test Points', 'Val Points'])\n",
        "plt.show()\n",
        "\n",
        "print(\"w = \")\n",
        "with np.printoptions(precision=2, suppress=True):\n",
        "    print(w.reshape(-1,1))"
      ],
      "execution_count": 11,
      "outputs": [
        {
          "output_type": "stream",
          "text": [
            "Train RMSE = 0.1921\n",
            "Val RMSE = 0.4112\n"
          ],
          "name": "stdout"
        },
        {
          "output_type": "display_data",
          "data": {
            "image/png": "[encoded data removed]",
            "text/plain": [
              "<Figure size 432x288 with 1 Axes>"
            ]
          },
          "metadata": {
            "tags": [],
            "needs_background": "light"
          }
        },
        {
          "output_type": "stream",
          "text": [
            "w = \n",
            "[[-0.4 ]\n",
            " [-1.11]\n",
            " [ 0.16]\n",
            " [ 1.74]\n",
            " [ 0.49]\n",
            " [ 1.48]\n",
            " [ 0.3 ]\n",
            " [ 1.05]\n",
            " [ 0.14]\n",
            " [ 0.7 ]\n",
            " [ 0.05]\n",
            " [ 0.44]\n",
            " [ 0.01]\n",
            " [ 0.24]\n",
            " [-0.02]\n",
            " [ 0.09]\n",
            " [-0.03]\n",
            " [-0.03]\n",
            " [-0.04]\n",
            " [-0.13]\n",
            " [-0.04]\n",
            " [-0.21]\n",
            " [-0.04]\n",
            " [-0.28]\n",
            " [-0.04]\n",
            " [-0.33]]\n"
          ],
          "name": "stdout"
        }
      ]
    },
    {
      "cell_type": "code",
      "metadata": {
        "colab": {
          "base_uri": "https://localhost:8080/"
        },
        "id": "uqm4O7S-zSgb",
        "outputId": "9101ba8f-2c11-4f33-d71b-79ab73898a99"
      },
      "source": [
        "# test error\n",
        "Xtest = designMatrix(xtest)\n",
        "yhat = reg.predict(Xtest)\n",
        "RMSE = np.sqrt( np.mean((ytest-yhat)**2) )\n",
        "print(\"Test RMSE = %.4f\" % RMSE)"
      ],
      "execution_count": 6,
      "outputs": [
        {
          "output_type": "stream",
          "text": [
            "Test RMSE = 0.2373\n"
          ],
          "name": "stdout"
        }
      ]
    }
  ]
}